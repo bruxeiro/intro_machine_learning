{
  "nbformat": 4,
  "nbformat_minor": 0,
  "metadata": {
    "colab": {
      "provenance": [],
      "authorship_tag": "ABX9TyMgXUQh//aBw2RgLUxaiwlo",
      "include_colab_link": true
    },
    "kernelspec": {
      "name": "python3",
      "display_name": "Python 3"
    },
    "language_info": {
      "name": "python"
    }
  },
  "cells": [
    {
      "cell_type": "markdown",
      "metadata": {
        "id": "view-in-github",
        "colab_type": "text"
      },
      "source": [
        "<a href=\"https://colab.research.google.com/github/bruxeiro/intro_machine_learning/blob/main/Introdu%C3%A7%C3%A3o_Machine_Learning_Classifica%C3%A7%C3%A3o_2.ipynb\" target=\"_parent\"><img src=\"https://colab.research.google.com/assets/colab-badge.svg\" alt=\"Open In Colab\"/></a>"
      ]
    },
    {
      "cell_type": "code",
      "execution_count": 1,
      "metadata": {
        "id": "bXVizVi1CIrL"
      },
      "outputs": [],
      "source": [
        "#Vou ler um arquivo em CSV e utilizar o SKLearning para trabalhar com classificações de machine learning"
      ]
    },
    {
      "cell_type": "code",
      "source": [
        "import pandas as pd\n",
        "\n",
        "uri =\"https://gist.githubusercontent.com/guilhermesilveira/2d2efa37d66b6c84a722ea627a897ced/raw/10968b997d885cbded1c92938c7a9912ba41c615/tracking.csv\"\n",
        "\n",
        "dados = pd.read_csv(uri)"
      ],
      "metadata": {
        "id": "2nswQ16sCT4I"
      },
      "execution_count": 1,
      "outputs": []
    },
    {
      "cell_type": "code",
      "source": [
        "x = dados[[\"home\", \"how_it_works\", \"contact\"]]\n",
        "y = dados[\"bought\"]\n",
        "print(y)"
      ],
      "metadata": {
        "colab": {
          "base_uri": "https://localhost:8080/"
        },
        "id": "61_x1KrOCf4d",
        "outputId": "dd070d32-8ea7-4a67-ac89-5056e098db1d"
      },
      "execution_count": 2,
      "outputs": [
        {
          "output_type": "stream",
          "name": "stdout",
          "text": [
            "0     0\n",
            "1     0\n",
            "2     0\n",
            "3     0\n",
            "4     0\n",
            "     ..\n",
            "94    0\n",
            "95    1\n",
            "96    0\n",
            "97    0\n",
            "98    0\n",
            "Name: bought, Length: 99, dtype: int64\n"
          ]
        }
      ]
    },
    {
      "cell_type": "code",
      "source": [
        "y.head()\n"
      ],
      "metadata": {
        "colab": {
          "base_uri": "https://localhost:8080/"
        },
        "id": "7-hYptKbDIIB",
        "outputId": "ea163d84-c137-401f-8919-e674f45c8743"
      },
      "execution_count": 4,
      "outputs": [
        {
          "output_type": "execute_result",
          "data": {
            "text/plain": [
              "0    0\n",
              "1    0\n",
              "2    0\n",
              "3    0\n",
              "4    0\n",
              "Name: bought, dtype: int64"
            ]
          },
          "metadata": {},
          "execution_count": 4
        }
      ]
    },
    {
      "cell_type": "code",
      "source": [
        "#Renomeando a tabela usando a função rename, sempre fazer isso no inicio do projeto caso necessário, pois os dados e colunas serão tratados conforme a tradução\n",
        "\n",
        "mapa = {\n",
        "    \"home\" : \"principal\",\n",
        "    \"how_it_works\" : \"funcionamento\",\n",
        "    \"contact\" : \"contato\",\n",
        "    \"bought\" : \"comprou\",\n",
        "}\n",
        "\n",
        "\n",
        "dados = dados.rename(columns = mapa)"
      ],
      "metadata": {
        "id": "bRsTDqr3DwTi"
      },
      "execution_count": 14,
      "outputs": []
    },
    {
      "cell_type": "code",
      "source": [
        "x = dados[[\"principal\", \"funcionamento\", \"contato\"]]\n",
        "y = dados[\"comprou\"]\n",
        "print(y)"
      ],
      "metadata": {
        "colab": {
          "base_uri": "https://localhost:8080/"
        },
        "id": "GA2-ZFXgD3eX",
        "outputId": "f168c368-daec-4c7b-e406-d1300cf76a01"
      },
      "execution_count": 15,
      "outputs": [
        {
          "output_type": "stream",
          "name": "stdout",
          "text": [
            "0     0\n",
            "1     0\n",
            "2     0\n",
            "3     0\n",
            "4     0\n",
            "     ..\n",
            "94    0\n",
            "95    1\n",
            "96    0\n",
            "97    0\n",
            "98    0\n",
            "Name: comprou, Length: 99, dtype: int64\n"
          ]
        }
      ]
    },
    {
      "cell_type": "code",
      "source": [
        "#Importante separar os dados de treino\n",
        "#Separando Treino x Teste\n",
        "\n",
        "treino_x = x[:75]\n",
        "treino_y = y[:75]"
      ],
      "metadata": {
        "id": "ZlzEw86gFFA7"
      },
      "execution_count": null,
      "outputs": []
    }
  ]
}